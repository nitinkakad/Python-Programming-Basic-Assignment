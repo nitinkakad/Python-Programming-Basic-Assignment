{
 "cells": [
  {
   "cell_type": "markdown",
   "metadata": {},
   "source": [
    "**1.Write a Python program to Extract Unique values dictionary values?**"
   ]
  },
  {
   "cell_type": "code",
   "execution_count": 15,
   "metadata": {},
   "outputs": [
    {
     "name": "stdout",
     "output_type": "stream",
     "text": [
      "Unique values are: \n",
      "1 5 3 "
     ]
    }
   ],
   "source": [
    "d={'a':1,'b':5,'c':1,'d':3,'e':5}\n",
    "x=[]\n",
    "print('Unique values are: ')\n",
    "for i in d.values():\n",
    "    if i not in x:\n",
    "        print(i,end=' ')\n",
    "        x.append(i)\n"
   ]
  },
  {
   "cell_type": "markdown",
   "metadata": {},
   "source": [
    "**2.Write a Python program to find the sum of all items in a dictionary?**"
   ]
  },
  {
   "cell_type": "code",
   "execution_count": 21,
   "metadata": {},
   "outputs": [
    {
     "name": "stdout",
     "output_type": "stream",
     "text": [
      "Sum of all the values of the keys is: 15\n"
     ]
    }
   ],
   "source": [
    "d={'a': 1, 'b': 5, 'c': 1, 'd': 3, 'e': 5}\n",
    "sum=0\n",
    "for i in d.items():\n",
    "    sum=sum+i[1]\n",
    "print(f'Sum of all the values of the keys is: {sum}')"
   ]
  },
  {
   "cell_type": "markdown",
   "metadata": {},
   "source": [
    "**3.Write a Python program to Merging two Dictionaries?**"
   ]
  },
  {
   "cell_type": "code",
   "execution_count": 31,
   "metadata": {},
   "outputs": [
    {
     "data": {
      "text/plain": [
       "{'a': 1, 'b': 5, 'c': 1, 'd': 3, 'e': 5}"
      ]
     },
     "execution_count": 31,
     "metadata": {},
     "output_type": "execute_result"
    }
   ],
   "source": [
    "d1={'a': 1, 'b': 5, 'c': 1}\n",
    "d2={'d': 3, 'e': 5}\n",
    "d={**d1,**d2}\n",
    "d"
   ]
  },
  {
   "cell_type": "markdown",
   "metadata": {},
   "source": [
    "**4.Write a Python program to convert key-values list to flat dictionary?**"
   ]
  },
  {
   "cell_type": "code",
   "execution_count": 60,
   "metadata": {},
   "outputs": [],
   "source": [
    "d=[['k1:1'],['k2:2'],['k3:3'],['k4:4']]\n",
    "new={}\n",
    "l1=[]\n",
    "l2=[]\n",
    "for i in d:\n",
    "    l1.append(i[0].split(':')[0])\n",
    "    l2.append(i[0].split(':')[1])"
   ]
  },
  {
   "cell_type": "code",
   "execution_count": 63,
   "metadata": {},
   "outputs": [
    {
     "data": {
      "text/plain": [
       "{'k1': '1', 'k2': '2', 'k3': '3', 'k4': '4'}"
      ]
     },
     "execution_count": 63,
     "metadata": {},
     "output_type": "execute_result"
    }
   ],
   "source": [
    "dict(zip(l1,l2))"
   ]
  },
  {
   "cell_type": "markdown",
   "metadata": {},
   "source": [
    "**5.Write a Python program to insertion at the beginning in OrderedDict?**"
   ]
  },
  {
   "cell_type": "code",
   "execution_count": 76,
   "metadata": {},
   "outputs": [],
   "source": [
    "from collections import OrderedDict\n",
    "\n",
    "d={'a': 1,'c': 1, 'd': 3,'b': 5, 'e': 5}\n",
    "\n",
    "unordered= OrderedDict(d)\n",
    "\n",
    "unordered.update({'x':10})\n",
    "\n",
    "unordered.move_to_end('x',last=False)"
   ]
  },
  {
   "cell_type": "code",
   "execution_count": 78,
   "metadata": {},
   "outputs": [
    {
     "data": {
      "text/plain": [
       "{'x': 10, 'a': 1, 'c': 1, 'd': 3, 'b': 5, 'e': 5}"
      ]
     },
     "execution_count": 78,
     "metadata": {},
     "output_type": "execute_result"
    }
   ],
   "source": [
    "dict(unordered)"
   ]
  },
  {
   "cell_type": "markdown",
   "metadata": {},
   "source": [
    "**6.Write a Python program to check order of character in string using OrderedDict()?**"
   ]
  },
  {
   "cell_type": "markdown",
   "metadata": {},
   "source": [
    "**7.Write a Python program to sort Python Dictionaries by Key or Value?**"
   ]
  },
  {
   "cell_type": "code",
   "execution_count": 91,
   "metadata": {},
   "outputs": [
    {
     "data": {
      "text/plain": [
       "{'a': 1, 'b': 5, 'c': 1, 'd': 3, 'e': 5, 'x': 10}"
      ]
     },
     "execution_count": 91,
     "metadata": {},
     "output_type": "execute_result"
    }
   ],
   "source": [
    "# 1) w.r.t key\n",
    "dic={'x': 10, 'a': 1, 'c': 1, 'd': 3, 'b': 5, 'e': 5}\n",
    "dict(sorted(dic.items(),key=lambda i : i[0]))"
   ]
  },
  {
   "cell_type": "code",
   "execution_count": 92,
   "metadata": {},
   "outputs": [
    {
     "data": {
      "text/plain": [
       "{'a': 1, 'c': 1, 'd': 3, 'b': 5, 'e': 5, 'x': 10}"
      ]
     },
     "execution_count": 92,
     "metadata": {},
     "output_type": "execute_result"
    }
   ],
   "source": [
    "# 2) w.r.t values\n",
    "\n",
    "dict(sorted(dic.items(),key=lambda i : i[1]))"
   ]
  }
 ],
 "metadata": {
  "kernelspec": {
   "display_name": "Python 3",
   "language": "python",
   "name": "python3"
  },
  "language_info": {
   "codemirror_mode": {
    "name": "ipython",
    "version": 3
   },
   "file_extension": ".py",
   "mimetype": "text/x-python",
   "name": "python",
   "nbconvert_exporter": "python",
   "pygments_lexer": "ipython3",
   "version": "3.8.5"
  }
 },
 "nbformat": 4,
 "nbformat_minor": 5
}
